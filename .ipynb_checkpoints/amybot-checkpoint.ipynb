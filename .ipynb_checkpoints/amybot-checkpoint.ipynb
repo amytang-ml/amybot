{
 "cells": [
  {
   "cell_type": "code",
   "execution_count": 1,
   "id": "28163088",
   "metadata": {},
   "outputs": [],
   "source": [
    "from llama_index import GPTSimpleVectorIndex\n",
    "from llama_index import LLMPredictor, PromptHelper, ServiceContext\n",
    "from langchain import OpenAI\n",
    "import openai\n",
    "from pathlib import Path\n",
    "from gpt_index import download_loader\n",
    "import os\n",
    "from itertools import chain\n",
    "import ipywidgets as widgets\n",
    "from IPython.display import display\n",
    "import re\n",
    "import nbconvert"
   ]
  },
  {
   "cell_type": "code",
   "execution_count": 2,
   "id": "78b4b08c",
   "metadata": {},
   "outputs": [],
   "source": [
    "os.environ['OPENAI_API_KEY'] = \"\" # Your OPENAI API key here"
   ]
  },
  {
   "cell_type": "code",
   "execution_count": 3,
   "id": "226fb0dd",
   "metadata": {},
   "outputs": [],
   "source": [
    "def create_index():\n",
    "    PDFReader = download_loader(\"PDFReader\")\n",
    "    loader = PDFReader()\n",
    "    document1 = loader.load_data(file=Path('./Resume.pdf'))\n",
    "    document2 = loader.load_data(file=Path('./Profile.pdf'))\n",
    "    documents = list(chain(*[document1, document2]))\n",
    "    index = GPTSimpleVectorIndex.from_documents(documents)\n",
    "    return index"
   ]
  },
  {
   "cell_type": "code",
   "execution_count": 4,
   "id": "3deeafbf",
   "metadata": {},
   "outputs": [
    {
     "name": "stderr",
     "output_type": "stream",
     "text": [
      "INFO:llama_index.token_counter.token_counter:> [build_index_from_nodes] Total LLM token usage: 0 tokens\n",
      "INFO:llama_index.token_counter.token_counter:> [build_index_from_nodes] Total embedding token usage: 1556 tokens\n"
     ]
    }
   ],
   "source": [
    "index = create_index()"
   ]
  },
  {
   "cell_type": "code",
   "execution_count": 11,
   "id": "2c2768ec",
   "metadata": {},
   "outputs": [],
   "source": [
    "# Function to handle user query and display the answer\n",
    "def process_query(query):\n",
    "    result = index.query(query)\n",
    "    print(str(result).lstrip('\\n'))"
   ]
  },
  {
   "cell_type": "code",
   "execution_count": 8,
   "id": "3af67d26",
   "metadata": {},
   "outputs": [
    {
     "name": "stderr",
     "output_type": "stream",
     "text": [
      "INFO:llama_index.token_counter.token_counter:> [query] Total LLM token usage: 892 tokens\n",
      "INFO:llama_index.token_counter.token_counter:> [query] Total embedding token usage: 5 tokens\n"
     ]
    },
    {
     "name": "stdout",
     "output_type": "stream",
     "text": [
      "Amy studied Data Theory at the University of California, Los Angeles, and is currently studying Data Science at the University of San Francisco.\n"
     ]
    }
   ],
   "source": [
    "process_query('what did amy study?')"
   ]
  },
  {
   "cell_type": "code",
   "execution_count": 9,
   "id": "78c73fe6",
   "metadata": {},
   "outputs": [
    {
     "name": "stderr",
     "output_type": "stream",
     "text": [
      "INFO:llama_index.token_counter.token_counter:> [query] Total LLM token usage: 915 tokens\n",
      "INFO:llama_index.token_counter.token_counter:> [query] Total embedding token usage: 9 tokens\n"
     ]
    },
    {
     "name": "stdout",
     "output_type": "stream",
     "text": [
      "Amy Tang has worked as a Data Scientist for BlackRock, Discovery Inc, First Media US, and Associated Students UCLA. She has developed chatbots, created data visualizations, performed statistical tests, and carried out sentiment analysis.\n"
     ]
    }
   ],
   "source": [
    "process_query(\"Summarize her work experience in 20 words\")"
   ]
  },
  {
   "cell_type": "code",
   "execution_count": 10,
   "id": "a679409c",
   "metadata": {},
   "outputs": [
    {
     "name": "stderr",
     "output_type": "stream",
     "text": [
      "INFO:llama_index.token_counter.token_counter:> [query] Total LLM token usage: 948 tokens\n",
      "INFO:llama_index.token_counter.token_counter:> [query] Total embedding token usage: 9 tokens\n"
     ]
    },
    {
     "name": "stdout",
     "output_type": "stream",
     "text": [
      "Yes, Amy is a good candidate for data science positions. She has a Master's in Data Science from the University of San Francisco, a background in Mathematics and Statistics, and experience in data science roles at BlackRock, Discovery Inc, and First Media US. She has also demonstrated her skills in statistical modeling, data visualization, machine learning, natural language processing, and creating data visualizations.\n"
     ]
    }
   ],
   "source": [
    "process_query('is amy a good candidate for data science positions')"
   ]
  }
 ],
 "metadata": {
  "kernelspec": {
   "display_name": "Python 3 (ipykernel)",
   "language": "python",
   "name": "python3"
  },
  "language_info": {
   "codemirror_mode": {
    "name": "ipython",
    "version": 3
   },
   "file_extension": ".py",
   "mimetype": "text/x-python",
   "name": "python",
   "nbconvert_exporter": "python",
   "pygments_lexer": "ipython3",
   "version": "3.9.12"
  }
 },
 "nbformat": 4,
 "nbformat_minor": 5
}
